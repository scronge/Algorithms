{
  "nbformat": 4,
  "nbformat_minor": 0,
  "metadata": {
    "colab": {
      "provenance": [],
      "authorship_tag": "ABX9TyPbVs5OpbehRKgIC/ogWX38",
      "include_colab_link": true
    },
    "kernelspec": {
      "name": "python3",
      "display_name": "Python 3"
    },
    "language_info": {
      "name": "python"
    }
  },
  "cells": [
    {
      "cell_type": "markdown",
      "metadata": {
        "id": "view-in-github",
        "colab_type": "text"
      },
      "source": [
        "<a href=\"https://colab.research.google.com/github/scronge/Algorithms/blob/main/Advent_of_Code_2024.ipynb\" target=\"_parent\"><img src=\"https://colab.research.google.com/assets/colab-badge.svg\" alt=\"Open In Colab\"/></a>"
      ]
    },
    {
      "cell_type": "markdown",
      "source": [
        "# **DAY 1**"
      ],
      "metadata": {
        "id": "1g1PkM4deyEn"
      }
    },
    {
      "cell_type": "markdown",
      "source": [
        "--- Day 1: Historian Hysteria ---\n",
        "The Chief Historian is always present for the big Christmas sleigh launch, but nobody has seen him in months! Last anyone heard, he was visiting locations that are historically significant to the North Pole; a group of Senior Historians has asked you to accompany them as they check the places they think he was most likely to visit.\n",
        "\n",
        "As each location is checked, they will mark it on their list with a star. They figure the Chief Historian must be in one of the first fifty places they'll look, so in order to save Christmas, you need to help them get fifty stars on their list before Santa takes off on December 25th.\n",
        "\n",
        "Collect stars by solving puzzles. Two puzzles will be made available on each day in the Advent calendar; the second puzzle is unlocked when you complete the first. Each puzzle grants one star. Good luck!\n",
        "\n",
        "You haven't even left yet and the group of Elvish Senior Historians has already hit a problem: their list of locations to check is currently empty. Eventually, someone decides that the best place to check first would be the Chief Historian's office.\n",
        "\n",
        "Upon pouring into the office, everyone confirms that the Chief Historian is indeed nowhere to be found. Instead, the Elves discover an assortment of notes and lists of historically significant locations! This seems to be the planning the Chief Historian was doing before he left. Perhaps these notes can be used to determine which locations to search?\n",
        "\n",
        "Throughout the Chief's office, the historically significant locations are listed not by name but by a unique number called the location ID. To make sure they don't miss anything, The Historians split into two groups, each searching the office and trying to create their own complete list of location IDs.\n",
        "\n",
        "There's just one problem: by holding the two lists up side by side (your puzzle input), it quickly becomes clear that the lists aren't very similar. Maybe you can help The Historians reconcile their lists?\n",
        "\n",
        "For example:\n",
        "\n",
        "3   4\n",
        "4   3\n",
        "2   5\n",
        "1   3\n",
        "3   9\n",
        "3   3\n",
        "Maybe the lists are only off by a small amount! To find out, pair up the numbers and measure how far apart they are. Pair up the smallest number in the left list with the smallest number in the right list, then the second-smallest left number with the second-smallest right number, and so on.\n",
        "\n",
        "Within each pair, figure out how far apart the two numbers are; you'll need to add up all of those distances. For example, if you pair up a 3 from the left list with a 7 from the right list, the distance apart is 4; if you pair up a 9 with a 3, the distance apart is 6.\n",
        "\n",
        "In the example list above, the pairs and distances would be as follows:\n",
        "\n",
        "The smallest number in the left list is 1, and the smallest number in the right list is 3. The distance between them is 2.\n",
        "The second-smallest number in the left list is 2, and the second-smallest number in the right list is another 3. The distance between them is 1.\n",
        "The third-smallest number in both lists is 3, so the distance between them is 0.\n",
        "The next numbers to pair up are 3 and 4, a distance of 1.\n",
        "The fifth-smallest numbers in each list are 3 and 5, a distance of 2.\n",
        "Finally, the largest number in the left list is 4, while the largest number in the right list is 9; these are a distance 5 apart.\n",
        "To find the total distance between the left list and the right list, add up the distances between all of the pairs you found. In the example above, this is 2 + 1 + 0 + 1 + 2 + 5, a total distance of 11!\n",
        "\n",
        "Your actual left and right lists contain many location IDs. What is the total distance between your lists?\n"
      ],
      "metadata": {
        "id": "jwrC5SYqg64s"
      }
    },
    {
      "cell_type": "markdown",
      "source": [],
      "metadata": {
        "id": "gDNZfUD7gaOW"
      }
    },
    {
      "cell_type": "code",
      "source": [
        "from numpy import genfromtxt\n",
        "\n",
        "data = genfromtxt(\"data1.txt\", delimiter=\"   \").T\n",
        "first_row = data[0]\n",
        "second_row = data[1]\n",
        "\n",
        "first_row_sorted = sorted(first_row)\n",
        "second_row_sorted = sorted(second_row)\n",
        "\n",
        "final_diffs = 0\n",
        "for i in range(len(first_row_sorted)):\n",
        "    final_diffs += abs(first_row_sorted[i] - second_row_sorted[i])\n",
        "\n",
        "print(int(final_diffs))"
      ],
      "metadata": {
        "colab": {
          "base_uri": "https://localhost:8080/"
        },
        "id": "Jhf8EzTidVbZ",
        "outputId": "2e6a7469-518e-489f-d8da-3bd20f7a6692"
      },
      "execution_count": 17,
      "outputs": [
        {
          "output_type": "stream",
          "name": "stdout",
          "text": [
            "1530215\n"
          ]
        }
      ]
    },
    {
      "cell_type": "markdown",
      "source": [
        "--- Part Two ---\n",
        "Your analysis only confirmed what everyone feared: the two lists of location IDs are indeed very different.\n",
        "\n",
        "Or are they?\n",
        "\n",
        "The Historians can't agree on which group made the mistakes or how to read most of the Chief's handwriting, but in the commotion you notice an interesting detail: a lot of location IDs appear in both lists! Maybe the other numbers aren't location IDs at all but rather misinterpreted handwriting.\n",
        "\n",
        "This time, you'll need to figure out exactly how often each number from the left list appears in the right list. Calculate a total similarity score by adding up each number in the left list after multiplying it by the number of times that number appears in the right list.\n",
        "\n",
        "Here are the same example lists again:\n",
        "\n",
        "3   4\n",
        "4   3\n",
        "2   5\n",
        "1   3\n",
        "3   9\n",
        "3   3\n",
        "For these example lists, here is the process of finding the similarity score:\n",
        "\n",
        "The first number in the left list is 3. It appears in the right list three times, so the similarity score increases by 3 * 3 = 9.\n",
        "The second number in the left list is 4. It appears in the right list once, so the similarity score increases by 4 * 1 = 4.\n",
        "The third number in the left list is 2. It does not appear in the right list, so the similarity score does not increase (2 * 0 = 0).\n",
        "The fourth number, 1, also does not appear in the right list.\n",
        "The fifth number, 3, appears in the right list three times; the similarity score increases by 9.\n",
        "The last number, 3, appears in the right list three times; the similarity score again increases by 9.\n",
        "So, for these example lists, the similarity score at the end of this process is 31 (9 + 4 + 0 + 0 + 9 + 9).\n",
        "\n",
        "Once again consider your left and right lists. What is their similarity score?\n"
      ],
      "metadata": {
        "id": "4yttrNXzgzfi"
      }
    },
    {
      "cell_type": "code",
      "source": [
        "final_diffs = 0\n",
        "result_map = dict()\n",
        "\n",
        "for i in range(len(first_row)):\n",
        "    num = first_row[i]\n",
        "    if num not in result_map.keys():\n",
        "        result_map[num] = 0\n",
        "        for j in range(len(second_row)):\n",
        "            if num == second_row[j]:\n",
        "                result_map[num] += num\n",
        "    final_diffs += result_map[num]\n",
        "\n",
        "print(int(final_diffs))"
      ],
      "metadata": {
        "colab": {
          "base_uri": "https://localhost:8080/"
        },
        "id": "8IvqgWioe2Ij",
        "outputId": "f7da15a7-bfc8-4d59-d516-9c74aa6413c5"
      },
      "execution_count": 18,
      "outputs": [
        {
          "output_type": "stream",
          "name": "stdout",
          "text": [
            "26800609\n"
          ]
        }
      ]
    },
    {
      "cell_type": "markdown",
      "source": [
        "# **DAY 2**"
      ],
      "metadata": {
        "id": "1yOTi4PSe2pa"
      }
    },
    {
      "cell_type": "markdown",
      "source": [
        "--- Day 2: Red-Nosed Reports ---\n",
        "Fortunately, the first location The Historians want to search isn't a long walk from the Chief Historian's office.\n",
        "\n",
        "While the Red-Nosed Reindeer nuclear fusion/fission plant appears to contain no sign of the Chief Historian, the engineers there run up to you as soon as they see you. Apparently, they still talk about the time Rudolph was saved through molecular synthesis from a single electron.\n",
        "\n",
        "They're quick to add that - since you're already here - they'd really appreciate your help analyzing some unusual data from the Red-Nosed reactor. You turn to check if The Historians are waiting for you, but they seem to have already divided into groups that are currently searching every corner of the facility. You offer to help with the unusual data.\n",
        "\n",
        "The unusual data (your puzzle input) consists of many reports, one report per line. Each report is a list of numbers called levels that are separated by spaces. For example:\n",
        "\n",
        "7 6 4 2 1\n",
        "1 2 7 8 9\n",
        "9 7 6 2 1\n",
        "1 3 2 4 5\n",
        "8 6 4 4 1\n",
        "1 3 6 7 9\n",
        "This example data contains six reports each containing five levels.\n",
        "\n",
        "The engineers are trying to figure out which reports are safe. The Red-Nosed reactor safety systems can only tolerate levels that are either gradually increasing or gradually decreasing. So, a report only counts as safe if both of the following are true:\n",
        "\n",
        "The levels are either all increasing or all decreasing.\n",
        "Any two adjacent levels differ by at least one and at most three.\n",
        "In the example above, the reports can be found safe or unsafe by checking those rules:\n",
        "\n",
        "7 6 4 2 1: Safe because the levels are all decreasing by 1 or 2.\n",
        "1 2 7 8 9: Unsafe because 2 7 is an increase of 5.\n",
        "9 7 6 2 1: Unsafe because 6 2 is a decrease of 4.\n",
        "1 3 2 4 5: Unsafe because 1 3 is increasing but 3 2 is decreasing.\n",
        "8 6 4 4 1: Unsafe because 4 4 is neither an increase or a decrease.\n",
        "1 3 6 7 9: Safe because the levels are all increasing by 1, 2, or 3.\n",
        "So, in this example, 2 reports are safe.\n",
        "\n",
        "Analyze the unusual data from the engineers. How many reports are safe?"
      ],
      "metadata": {
        "id": "MuTgfbMkg2xC"
      }
    },
    {
      "cell_type": "code",
      "source": [
        "def valid_num_diff(num1, num2):\n",
        "    return abs(num1-num2) < 4 and (abs(num1-num2) > 0)\n",
        "\n",
        "def go_through_row(row, tolerance):\n",
        "    for i in range(len(row)):\n",
        "        row[i] = int(row[i])\n",
        "    row_safe = True\n",
        "    is_increasing = True\n",
        "    safe_buffers = set()\n",
        "\n",
        "    if not len(row) < 1:\n",
        "        if row[0]>row[1]:\n",
        "            is_increasing = False\n",
        "        for j in range(len(row) - 1):\n",
        "            num1 = row[j]\n",
        "            num2 = row[j+1]\n",
        "            if not valid_num_diff(num1, num2) or (is_increasing and num1 > num2) or (not is_increasing and num1 < num2):\n",
        "                row_safe = False\n",
        "            if tolerance:\n",
        "                safe_buffers.add(j)\n",
        "                safe_buffers.add(j+1)\n",
        "        if tolerance and not row_safe:\n",
        "            for buffer in safe_buffers:\n",
        "                temp = row.copy()\n",
        "                row.pop(buffer)\n",
        "                row_safe = go_through_row(row, False)\n",
        "                row = temp\n",
        "                if row_safe is True:\n",
        "                    return True\n",
        "        if row_safe:\n",
        "            return True\n",
        "    return False\n",
        "\n",
        "data = open('data2.txt', 'r')\n",
        "safe_rows = 0\n",
        "for line in data:\n",
        "    if go_through_row(line.strip().split(' '), False): safe_rows += 1\n",
        "\n",
        "print(safe_rows)"
      ],
      "metadata": {
        "colab": {
          "base_uri": "https://localhost:8080/"
        },
        "id": "bmotp_fsfFrf",
        "outputId": "76273af4-cf60-4117-cd5c-1be6bc1226dc"
      },
      "execution_count": 19,
      "outputs": [
        {
          "output_type": "stream",
          "name": "stdout",
          "text": [
            "334\n"
          ]
        }
      ]
    },
    {
      "cell_type": "markdown",
      "source": [
        "--- Part Two ---\n",
        "The engineers are surprised by the low number of safe reports until they realize they forgot to tell you about the Problem Dampener.\n",
        "\n",
        "The Problem Dampener is a reactor-mounted module that lets the reactor safety systems tolerate a single bad level in what would otherwise be a safe report. It's like the bad level never happened!\n",
        "\n",
        "Now, the same rules apply as before, except if removing a single level from an unsafe report would make it safe, the report instead counts as safe.\n",
        "\n",
        "More of the above example's reports are now safe:\n",
        "\n",
        "7 6 4 2 1: Safe without removing any level.\n",
        "1 2 7 8 9: Unsafe regardless of which level is removed.\n",
        "9 7 6 2 1: Unsafe regardless of which level is removed.\n",
        "1 3 2 4 5: Safe by removing the second level, 3.\n",
        "8 6 4 4 1: Safe by removing the third level, 4.\n",
        "1 3 6 7 9: Safe without removing any level.\n",
        "Thanks to the Problem Dampener, 4 reports are actually safe!\n",
        "\n",
        "Update your analysis by handling situations where the Problem Dampener can remove a single level from unsafe reports. How many reports are now safe?"
      ],
      "metadata": {
        "id": "W0EWHuXFg1ki"
      }
    },
    {
      "cell_type": "code",
      "source": [
        "data = open('data2.txt', 'r')\n",
        "safe_rows = 0\n",
        "for line in data:\n",
        "    if go_through_row(line.strip().split(' '), True): safe_rows += 1\n",
        "\n",
        "print(safe_rows)"
      ],
      "metadata": {
        "colab": {
          "base_uri": "https://localhost:8080/"
        },
        "id": "1bXYxka4e9rs",
        "outputId": "85c3bd94-e19e-433e-9ea4-e3127cbf6210"
      },
      "execution_count": 21,
      "outputs": [
        {
          "output_type": "stream",
          "name": "stdout",
          "text": [
            "400\n"
          ]
        }
      ]
    },
    {
      "cell_type": "code",
      "source": [],
      "metadata": {
        "id": "sRsii2tNe99C"
      },
      "execution_count": null,
      "outputs": []
    },
    {
      "cell_type": "markdown",
      "source": [
        "# **DAY 3**"
      ],
      "metadata": {
        "id": "MgnLPuy_e-WN"
      }
    },
    {
      "cell_type": "markdown",
      "source": [
        "--- Day 3: Mull It Over ---\n",
        "\"Our computers are having issues, so I have no idea if we have any Chief Historians in stock! You're welcome to check the warehouse, though,\" says the mildly flustered shopkeeper at the North Pole Toboggan Rental Shop. The Historians head out to take a look.\n",
        "\n",
        "The shopkeeper turns to you. \"Any chance you can see why our computers are having issues again?\"\n",
        "\n",
        "The computer appears to be trying to run a program, but its memory (your puzzle input) is corrupted. All of the instructions have been jumbled up!\n",
        "\n",
        "It seems like the goal of the program is just to multiply some numbers. It does that with instructions like mul(X,Y), where X and Y are each 1-3 digit numbers. For instance, mul(44,46) multiplies 44 by 46 to get a result of 2024. Similarly, mul(123,4) would multiply 123 by 4.\n",
        "\n",
        "However, because the program's memory has been corrupted, there are also many invalid characters that should be ignored, even if they look like part of a mul instruction. Sequences like mul(4*, mul(6,9!, ?(12,34), or mul ( 2 , 4 ) do nothing.\n",
        "\n",
        "For example, consider the following section of corrupted memory:\n",
        "\n",
        "xmul(2,4)%&mul[3,7]!@^do_not_mul(5,5)+mul(32,64]then(mul(11,8)mul(8,5))\n",
        "Only the four highlighted sections are real mul instructions. Adding up the result of each instruction produces 161 (2*4 + 5*5 + 11*8 + 8*5).\n",
        "\n",
        "Scan the corrupted memory for uncorrupted mul instructions. What do you get if you add up all of the results of the multiplications?"
      ],
      "metadata": {
        "id": "SFEhYqAWgcN8"
      }
    },
    {
      "cell_type": "code",
      "source": [
        "def check_if_valid(start_index):\n",
        "    current_index = start_index\n",
        "    num1 = ''\n",
        "    num2 = ''\n",
        "\n",
        "    #For edge cases like mul(,5)\n",
        "    if final_string[current_index].isnumeric():\n",
        "        num1 += final_string[current_index]\n",
        "    current_index += 1\n",
        "\n",
        "    while final_string[current_index] != ',':\n",
        "        current_char = final_string[current_index]\n",
        "        if current_char.isnumeric():\n",
        "            num1 += final_string[current_index]\n",
        "            current_index+= 1\n",
        "        else:\n",
        "            return False\n",
        "    #Go past , char\n",
        "    current_index += 1\n",
        "\n",
        "    #For edge cases like mul(5,)\n",
        "    if final_string[current_index].isnumeric():\n",
        "        num2 += final_string[current_index]\n",
        "    current_index += 1\n",
        "\n",
        "    while final_string[current_index] != ')':\n",
        "        current_char = final_string[current_index]\n",
        "        if current_char.isnumeric():\n",
        "            num2 += final_string[current_index]\n",
        "            current_index+= 1\n",
        "        else:\n",
        "            return False\n",
        "    return int(num1)*int(num2)\n",
        "\n",
        "data = open('data3.txt', 'r')\n",
        "final_string = \"\"\n",
        "for line in data:\n",
        "    final_string += line.strip()\n",
        "\n",
        "final_sum = 0\n",
        "for i in range(len(final_string)-8):\n",
        "    if final_string[i:i+4] == \"mul(\":\n",
        "        if check_if_valid(i+4): final_sum += check_if_valid(i+4)\n",
        "\n",
        "print(final_sum)"
      ],
      "metadata": {
        "colab": {
          "base_uri": "https://localhost:8080/"
        },
        "id": "q2NIiqoJfFNw",
        "outputId": "895f060a-b803-471f-e23e-7fc4106830b7"
      },
      "execution_count": 23,
      "outputs": [
        {
          "output_type": "stream",
          "name": "stdout",
          "text": [
            "178794710\n"
          ]
        }
      ]
    },
    {
      "cell_type": "markdown",
      "source": [
        "--- Part Two ---\n",
        "As you scan through the corrupted memory, you notice that some of the conditional statements are also still intact. If you handle some of the uncorrupted conditional statements in the program, you might be able to get an even more accurate result.\n",
        "\n",
        "There are two new instructions you'll need to handle:\n",
        "\n",
        "The do() instruction enables future mul instructions.\n",
        "The don't() instruction disables future mul instructions.\n",
        "Only the most recent do() or don't() instruction applies. At the beginning of the program, mul instructions are enabled.\n",
        "\n",
        "For example:\n",
        "\n",
        "xmul(2,4)&mul[3,7]!^don't()_mul(5,5)+mul(32,64](mul(11,8)undo()?mul(8,5))\n",
        "This corrupted memory is similar to the example from before, but this time the mul(5,5) and mul(11,8) instructions are disabled because there is a don't() instruction before them. The other mul instructions function normally, including the one at the end that gets re-enabled by a do() instruction.\n",
        "\n",
        "This time, the sum of the results is 48 (2*4 + 8*5).\n",
        "\n",
        "Handle the new instructions; what do you get if you add up all of the results of just the enabled multiplications?"
      ],
      "metadata": {
        "id": "OQix_R4ggsbE"
      }
    },
    {
      "cell_type": "code",
      "source": [
        "final_sum = 0\n",
        "mul_enabled = True\n",
        "for i in range(len(final_string)-8):\n",
        "    if final_string[i:i+4] == \"do()\":\n",
        "        mul_enabled = True\n",
        "    if final_string[i:i+7] == \"don't()\":\n",
        "        mul_enabled = False\n",
        "    if mul_enabled and final_string[i:i+4] == \"mul(\":\n",
        "        if check_if_valid(i+4): final_sum += check_if_valid(i+4)\n",
        "\n",
        "print(final_sum)"
      ],
      "metadata": {
        "colab": {
          "base_uri": "https://localhost:8080/"
        },
        "id": "_onJdApbe_Ag",
        "outputId": "f1312670-8a62-4994-d334-d6f6e37193a7"
      },
      "execution_count": 24,
      "outputs": [
        {
          "output_type": "stream",
          "name": "stdout",
          "text": [
            "76729637\n"
          ]
        }
      ]
    },
    {
      "cell_type": "code",
      "source": [],
      "metadata": {
        "id": "F5i_-GK8e_Ot"
      },
      "execution_count": null,
      "outputs": []
    },
    {
      "cell_type": "markdown",
      "source": [
        "# **DAY 4**"
      ],
      "metadata": {
        "id": "SNJTuqf5e_g3"
      }
    },
    {
      "cell_type": "markdown",
      "source": [
        "--- Day 4: Ceres Search ---\n",
        "\"Looks like the Chief's not here. Next!\" One of The Historians pulls out a device and pushes the only button on it. After a brief flash, you recognize the interior of the Ceres monitoring station!\n",
        "\n",
        "As the search for the Chief continues, a small Elf who lives on the station tugs on your shirt; she'd like to know if you could help her with her word search (your puzzle input). She only has to find one word: XMAS.\n",
        "\n",
        "This word search allows words to be horizontal, vertical, diagonal, written backwards, or even overlapping other words. It's a little unusual, though, as you don't merely need to find one instance of XMAS - you need to find all of them. Here are a few ways XMAS might appear, where irrelevant characters have been replaced with .:\n",
        "\n",
        "\n",
        "..X...\n",
        ".SAMX.\n",
        ".A..A.\n",
        "XMAS.S\n",
        ".X....\n",
        "The actual word search will be full of letters instead. For example:\n",
        "\n",
        "MMMSXXMASM\n",
        "MSAMXMSMSA\n",
        "AMXSXMAAMM\n",
        "MSAMASMSMX\n",
        "XMASAMXAMM\n",
        "XXAMMXXAMA\n",
        "SMSMSASXSS\n",
        "SAXAMASAAA\n",
        "MAMMMXMMMM\n",
        "MXMXAXMASX\n",
        "In this word search, XMAS occurs a total of 18 times; here's the same word search again, but where letters not involved in any XMAS have been replaced with .:\n",
        "\n",
        "....XXMAS.\n",
        ".SAMXMS...\n",
        "...S..A...\n",
        "..A.A.MS.X\n",
        "XMASAMX.MM\n",
        "X.....XA.A\n",
        "S.S.S.S.SS\n",
        ".A.A.A.A.A\n",
        "..M.M.M.MM\n",
        ".X.X.XMASX\n",
        "Take a look at the little Elf's word search. How many times does XMAS appear?"
      ],
      "metadata": {
        "id": "Bc66ZeQchEaC"
      }
    },
    {
      "cell_type": "code",
      "source": [
        "def check_if_mas(char2, char3, char4):\n",
        "    return char2==\"M\" and char3==\"A\" and char4==\"S\"\n",
        "\n",
        "data = open(\"data4.txt\", 'r')\n",
        "word_search_board = [[]]\n",
        "line_index = 0\n",
        "\n",
        "for line in data:\n",
        "    for char in line.strip():\n",
        "        word_search_board[line_index].append(char)\n",
        "    word_search_board.append([])\n",
        "    line_index += 1\n",
        "\n",
        "max_row = len(word_search_board) - 1\n",
        "max_col = len(word_search_board[0])\n",
        "xmas_count = 0\n",
        "for i in range(max_row):\n",
        "    for j in range(max_col):\n",
        "        if word_search_board[i][j] == 'X':\n",
        "            up_in_range, left_in_range, down_in_range, right_in_range = False, False, False, False\n",
        "            #if statements for every possible way to make xmas\n",
        "            if i - 3 >= 0:\n",
        "                up_in_range = True\n",
        "                if check_if_mas(word_search_board[i-1][j], word_search_board[i-2][j], word_search_board[i-3][j]):\n",
        "                    xmas_count += 1\n",
        "            if j - 3 >= 0:\n",
        "                left_in_range = True\n",
        "                if check_if_mas(word_search_board[i][j-1], word_search_board[i][j-2], word_search_board[i][j-3]):\n",
        "                    xmas_count += 1\n",
        "            if i + 4 <= max_row:\n",
        "                down_in_range = True\n",
        "                if check_if_mas(word_search_board[i+1][j], word_search_board[i+2][j], word_search_board[i+3][j]):\n",
        "                    xmas_count += 1\n",
        "            if j + 4 <= max_col:\n",
        "                right_in_range = True\n",
        "                if check_if_mas(word_search_board[i][j+1], word_search_board[i][j+2], word_search_board[i][j+3]):\n",
        "                    xmas_count += 1\n",
        "            if left_in_range and up_in_range:\n",
        "                if check_if_mas(word_search_board[i-1][j-1], word_search_board[i-2][j-2], word_search_board[i-3][j-3]):\n",
        "                    xmas_count += 1\n",
        "            if right_in_range and up_in_range:\n",
        "                if check_if_mas(word_search_board[i-1][j+1], word_search_board[i-2][j+2], word_search_board[i-3][j+3]):\n",
        "                    xmas_count += 1\n",
        "            if left_in_range and down_in_range:\n",
        "                if check_if_mas(word_search_board[i+1][j-1], word_search_board[i+2][j-2], word_search_board[i+3][j-3]):\n",
        "                    xmas_count += 1\n",
        "            if right_in_range and down_in_range:\n",
        "                if check_if_mas(word_search_board[i+1][j+1], word_search_board[i+2][j+2], word_search_board[i+3][j+3]):\n",
        "                    xmas_count += 1\n",
        "print(xmas_count)"
      ],
      "metadata": {
        "colab": {
          "base_uri": "https://localhost:8080/"
        },
        "id": "TBSmiTSVhJuS",
        "outputId": "b626a6ce-555d-4d2a-d8da-ee0246f04685"
      },
      "execution_count": 26,
      "outputs": [
        {
          "output_type": "stream",
          "name": "stdout",
          "text": [
            "2414\n"
          ]
        }
      ]
    },
    {
      "cell_type": "markdown",
      "source": [
        "--- Part Two ---\n",
        "The Elf looks quizzically at you. Did you misunderstand the assignment?\n",
        "\n",
        "Looking for the instructions, you flip over the word search to find that this isn't actually an XMAS puzzle; it's an X-MAS puzzle in which you're supposed to find two MAS in the shape of an X. One way to achieve that is like this:\n",
        "\n",
        "M.S\n",
        ".A.\n",
        "M.S\n",
        "Irrelevant characters have again been replaced with . in the above diagram. Within the X, each MAS can be written forwards or backwards.\n",
        "\n",
        "Here's the same example from before, but this time all of the X-MASes have been kept instead:\n",
        "\n",
        ".M.S......\n",
        "..A..MSMS.\n",
        ".M.S.MAA..\n",
        "..A.ASMSM.\n",
        ".M.S.M....\n",
        "..........\n",
        "S.S.S.S.S.\n",
        ".A.A.A.A..\n",
        "M.M.M.M.M.\n",
        "..........\n",
        "In this example, an X-MAS appears 9 times.\n",
        "\n",
        "Flip the word search from the instructions back over to the word search side and try again. How many times does an X-MAS appear?"
      ],
      "metadata": {
        "id": "rX3ewun0hHBT"
      }
    },
    {
      "cell_type": "code",
      "source": [
        "xmas_count = 0\n",
        "for i in range(max_row - 2):\n",
        "    for j in range(max_col - 2):\n",
        "        first_half_mas, second_half_mas = False, False\n",
        "        if check_if_mas(word_search_board[i][j], word_search_board[i+1][j+1], word_search_board[i+2][j+2]) or check_if_mas(word_search_board[i+2][j+2], word_search_board[i+1][j+1], word_search_board[i][j]):\n",
        "            first_half_mas = True\n",
        "        if check_if_mas(word_search_board[i][j+2], word_search_board[i+1][j+1], word_search_board[i+2][j]) or check_if_mas(word_search_board[i+2][j], word_search_board[i+1][j+1], word_search_board[i][j+2]):\n",
        "            second_half_mas = True\n",
        "        if first_half_mas and second_half_mas:\n",
        "            xmas_count += 1\n",
        "print(xmas_count)"
      ],
      "metadata": {
        "colab": {
          "base_uri": "https://localhost:8080/"
        },
        "id": "f0KPLlj-hHTI",
        "outputId": "e732d567-9dd2-4dff-ee57-0f01596c6454"
      },
      "execution_count": 29,
      "outputs": [
        {
          "output_type": "stream",
          "name": "stdout",
          "text": [
            "1871\n"
          ]
        }
      ]
    },
    {
      "cell_type": "code",
      "source": [],
      "metadata": {
        "id": "CF3oyY8lhZ6o"
      },
      "execution_count": null,
      "outputs": []
    }
  ]
}